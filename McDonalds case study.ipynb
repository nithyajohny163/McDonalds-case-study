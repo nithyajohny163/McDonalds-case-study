{
 "cells": [
  {
   "cell_type": "code",
   "execution_count": 1,
   "id": "0f34f9fb",
   "metadata": {},
   "outputs": [],
   "source": [
    "import pandas as pd\n",
    "import numpy as np\n",
    "import matplotlib.pyplot as plt\n",
    "import seaborn as sns"
   ]
  },
  {
   "cell_type": "code",
   "execution_count": 2,
   "id": "96e804db",
   "metadata": {},
   "outputs": [],
   "source": [
    "df= pd.read_csv('mcdonalds.csv')"
   ]
  },
  {
   "cell_type": "code",
   "execution_count": 3,
   "id": "02a06568",
   "metadata": {},
   "outputs": [
    {
     "data": {
      "text/html": [
       "<div>\n",
       "<style scoped>\n",
       "    .dataframe tbody tr th:only-of-type {\n",
       "        vertical-align: middle;\n",
       "    }\n",
       "\n",
       "    .dataframe tbody tr th {\n",
       "        vertical-align: top;\n",
       "    }\n",
       "\n",
       "    .dataframe thead th {\n",
       "        text-align: right;\n",
       "    }\n",
       "</style>\n",
       "<table border=\"1\" class=\"dataframe\">\n",
       "  <thead>\n",
       "    <tr style=\"text-align: right;\">\n",
       "      <th></th>\n",
       "      <th>yummy</th>\n",
       "      <th>convenient</th>\n",
       "      <th>spicy</th>\n",
       "      <th>fattening</th>\n",
       "      <th>greasy</th>\n",
       "      <th>fast</th>\n",
       "      <th>cheap</th>\n",
       "      <th>tasty</th>\n",
       "      <th>expensive</th>\n",
       "      <th>healthy</th>\n",
       "      <th>disgusting</th>\n",
       "      <th>Like</th>\n",
       "      <th>Age</th>\n",
       "      <th>VisitFrequency</th>\n",
       "      <th>Gender</th>\n",
       "    </tr>\n",
       "  </thead>\n",
       "  <tbody>\n",
       "    <tr>\n",
       "      <th>0</th>\n",
       "      <td>No</td>\n",
       "      <td>Yes</td>\n",
       "      <td>No</td>\n",
       "      <td>Yes</td>\n",
       "      <td>No</td>\n",
       "      <td>Yes</td>\n",
       "      <td>Yes</td>\n",
       "      <td>No</td>\n",
       "      <td>Yes</td>\n",
       "      <td>No</td>\n",
       "      <td>No</td>\n",
       "      <td>-3</td>\n",
       "      <td>61</td>\n",
       "      <td>Every three months</td>\n",
       "      <td>Female</td>\n",
       "    </tr>\n",
       "    <tr>\n",
       "      <th>1</th>\n",
       "      <td>Yes</td>\n",
       "      <td>Yes</td>\n",
       "      <td>No</td>\n",
       "      <td>Yes</td>\n",
       "      <td>Yes</td>\n",
       "      <td>Yes</td>\n",
       "      <td>Yes</td>\n",
       "      <td>Yes</td>\n",
       "      <td>Yes</td>\n",
       "      <td>No</td>\n",
       "      <td>No</td>\n",
       "      <td>+2</td>\n",
       "      <td>51</td>\n",
       "      <td>Every three months</td>\n",
       "      <td>Female</td>\n",
       "    </tr>\n",
       "    <tr>\n",
       "      <th>2</th>\n",
       "      <td>No</td>\n",
       "      <td>Yes</td>\n",
       "      <td>Yes</td>\n",
       "      <td>Yes</td>\n",
       "      <td>Yes</td>\n",
       "      <td>Yes</td>\n",
       "      <td>No</td>\n",
       "      <td>Yes</td>\n",
       "      <td>Yes</td>\n",
       "      <td>Yes</td>\n",
       "      <td>No</td>\n",
       "      <td>+1</td>\n",
       "      <td>62</td>\n",
       "      <td>Every three months</td>\n",
       "      <td>Female</td>\n",
       "    </tr>\n",
       "    <tr>\n",
       "      <th>3</th>\n",
       "      <td>Yes</td>\n",
       "      <td>Yes</td>\n",
       "      <td>No</td>\n",
       "      <td>Yes</td>\n",
       "      <td>Yes</td>\n",
       "      <td>Yes</td>\n",
       "      <td>Yes</td>\n",
       "      <td>Yes</td>\n",
       "      <td>No</td>\n",
       "      <td>No</td>\n",
       "      <td>Yes</td>\n",
       "      <td>+4</td>\n",
       "      <td>69</td>\n",
       "      <td>Once a week</td>\n",
       "      <td>Female</td>\n",
       "    </tr>\n",
       "    <tr>\n",
       "      <th>4</th>\n",
       "      <td>No</td>\n",
       "      <td>Yes</td>\n",
       "      <td>No</td>\n",
       "      <td>Yes</td>\n",
       "      <td>Yes</td>\n",
       "      <td>Yes</td>\n",
       "      <td>Yes</td>\n",
       "      <td>No</td>\n",
       "      <td>No</td>\n",
       "      <td>Yes</td>\n",
       "      <td>No</td>\n",
       "      <td>+2</td>\n",
       "      <td>49</td>\n",
       "      <td>Once a month</td>\n",
       "      <td>Male</td>\n",
       "    </tr>\n",
       "  </tbody>\n",
       "</table>\n",
       "</div>"
      ],
      "text/plain": [
       "  yummy convenient spicy fattening greasy fast cheap tasty expensive healthy  \\\n",
       "0    No        Yes    No       Yes     No  Yes   Yes    No       Yes      No   \n",
       "1   Yes        Yes    No       Yes    Yes  Yes   Yes   Yes       Yes      No   \n",
       "2    No        Yes   Yes       Yes    Yes  Yes    No   Yes       Yes     Yes   \n",
       "3   Yes        Yes    No       Yes    Yes  Yes   Yes   Yes        No      No   \n",
       "4    No        Yes    No       Yes    Yes  Yes   Yes    No        No     Yes   \n",
       "\n",
       "  disgusting Like  Age      VisitFrequency  Gender  \n",
       "0         No   -3   61  Every three months  Female  \n",
       "1         No   +2   51  Every three months  Female  \n",
       "2         No   +1   62  Every three months  Female  \n",
       "3        Yes   +4   69         Once a week  Female  \n",
       "4         No   +2   49        Once a month    Male  "
      ]
     },
     "execution_count": 3,
     "metadata": {},
     "output_type": "execute_result"
    }
   ],
   "source": [
    "df.head()"
   ]
  },
  {
   "cell_type": "code",
   "execution_count": 4,
   "id": "d06d3ab8",
   "metadata": {},
   "outputs": [
    {
     "data": {
      "text/plain": [
       "yummy             0\n",
       "convenient        0\n",
       "spicy             0\n",
       "fattening         0\n",
       "greasy            0\n",
       "fast              0\n",
       "cheap             0\n",
       "tasty             0\n",
       "expensive         0\n",
       "healthy           0\n",
       "disgusting        0\n",
       "Like              0\n",
       "Age               0\n",
       "VisitFrequency    0\n",
       "Gender            0\n",
       "dtype: int64"
      ]
     },
     "execution_count": 4,
     "metadata": {},
     "output_type": "execute_result"
    }
   ],
   "source": [
    "df.isnull().sum()"
   ]
  },
  {
   "cell_type": "code",
   "execution_count": 5,
   "id": "75311f01",
   "metadata": {},
   "outputs": [
    {
     "data": {
      "text/plain": [
       "Once a month             439\n",
       "Every three months       342\n",
       "Once a year              252\n",
       "Once a week              235\n",
       "Never                    131\n",
       "More than once a week     54\n",
       "Name: VisitFrequency, dtype: int64"
      ]
     },
     "execution_count": 5,
     "metadata": {},
     "output_type": "execute_result"
    }
   ],
   "source": [
    "#no null values- \n",
    "df['VisitFrequency'].value_counts()"
   ]
  },
  {
   "cell_type": "code",
   "execution_count": 6,
   "id": "5bf39af8",
   "metadata": {},
   "outputs": [
    {
     "data": {
      "text/plain": [
       "+3              229\n",
       "+2              187\n",
       "0               169\n",
       "+4              160\n",
       "+1              152\n",
       "I hate it!-5    152\n",
       "I love it!+5    143\n",
       "-3               73\n",
       "-4               71\n",
       "-2               59\n",
       "-1               58\n",
       "Name: Like, dtype: int64"
      ]
     },
     "execution_count": 6,
     "metadata": {},
     "output_type": "execute_result"
    }
   ],
   "source": [
    "df['Like'].value_counts()"
   ]
  },
  {
   "cell_type": "code",
   "execution_count": 15,
   "id": "f2dd4584",
   "metadata": {},
   "outputs": [],
   "source": [
    "df['Like']=(df['Like'].replace({'I hate it!-5':'-5','I love it!+5':'+5'}))"
   ]
  },
  {
   "cell_type": "code",
   "execution_count": 9,
   "id": "f9d5ce80",
   "metadata": {},
   "outputs": [
    {
     "data": {
      "text/plain": [
       "dtype('O')"
      ]
     },
     "execution_count": 9,
     "metadata": {},
     "output_type": "execute_result"
    }
   ],
   "source": [
    "df['Like'].dtype"
   ]
  },
  {
   "cell_type": "code",
   "execution_count": 18,
   "id": "46c69a2e",
   "metadata": {},
   "outputs": [
    {
     "data": {
      "text/plain": [
       "0      -3\n",
       "1       2\n",
       "2       1\n",
       "3       4\n",
       "4       2\n",
       "       ..\n",
       "1448   -5\n",
       "1449    2\n",
       "1450    3\n",
       "1451    4\n",
       "1452   -3\n",
       "Name: Like, Length: 1453, dtype: int64"
      ]
     },
     "execution_count": 18,
     "metadata": {},
     "output_type": "execute_result"
    }
   ],
   "source": [
    "df['Like'].astype('int64')"
   ]
  },
  {
   "cell_type": "code",
   "execution_count": 19,
   "id": "a5a26457",
   "metadata": {},
   "outputs": [
    {
     "data": {
      "text/plain": [
       "dtype('int64')"
      ]
     },
     "execution_count": 19,
     "metadata": {},
     "output_type": "execute_result"
    }
   ],
   "source": [
    "#converted to numeric\n",
    "df['Like'].dtype"
   ]
  },
  {
   "cell_type": "code",
   "execution_count": 20,
   "id": "75eeb4c7",
   "metadata": {},
   "outputs": [
    {
     "data": {
      "text/plain": [
       " 3    229\n",
       " 2    187\n",
       " 0    169\n",
       " 4    160\n",
       " 1    152\n",
       "-5    152\n",
       " 5    143\n",
       "-3     73\n",
       "-4     71\n",
       "-2     59\n",
       "-1     58\n",
       "Name: Like, dtype: int64"
      ]
     },
     "execution_count": 20,
     "metadata": {},
     "output_type": "execute_result"
    }
   ],
   "source": [
    "df['Like'].value_counts()"
   ]
  },
  {
   "cell_type": "code",
   "execution_count": 22,
   "id": "161af453",
   "metadata": {},
   "outputs": [],
   "source": [
    "from sklearn.preprocessing import LabelEncoder\n",
    "def labelencoding(x):\n",
    "    df[x] = LabelEncoder().fit_transform(df[x])\n",
    "    return df\n",
    "\n",
    "cat = ['yummy', 'convenient', 'spicy', 'fattening', 'greasy', 'fast', 'cheap',\n",
    "       'tasty', 'expensive', 'healthy', 'disgusting']\n",
    "\n",
    "for i in cat:\n",
    "    labelencoding(i)"
   ]
  },
  {
   "cell_type": "code",
   "execution_count": 23,
   "id": "9d5d33e5",
   "metadata": {},
   "outputs": [
    {
     "data": {
      "text/plain": [
       "yummy         0.55\n",
       "convenient    0.91\n",
       "spicy         0.09\n",
       "fattening     0.87\n",
       "greasy        0.53\n",
       "fast          0.90\n",
       "cheap         0.60\n",
       "tasty         0.64\n",
       "expensive     0.36\n",
       "healthy       0.20\n",
       "disgusting    0.24\n",
       "dtype: float64"
      ]
     },
     "execution_count": 23,
     "metadata": {},
     "output_type": "execute_result"
    }
   ],
   "source": [
    "x=df.iloc[:,:11]\n",
    "np.round(x.mean(),2)"
   ]
  },
  {
   "cell_type": "code",
   "execution_count": 24,
   "id": "d42dfe09",
   "metadata": {},
   "outputs": [],
   "source": [
    "#Principal Component Analysis\n",
    "\n",
    "from sklearn.decomposition import PCA\n",
    "model=PCA()\n",
    "pca=model.fit_transform(x)\n",
    "\n",
    "pca_df= pd.DataFrame(data=pca,columns=[f'PC{i+1}' for i in range(len(x.columns))])"
   ]
  },
  {
   "cell_type": "code",
   "execution_count": 25,
   "id": "e6798fef",
   "metadata": {},
   "outputs": [
    {
     "name": "stdout",
     "output_type": "stream",
     "text": [
      "Importance of components:\n"
     ]
    },
    {
     "data": {
      "text/html": [
       "<div>\n",
       "<style scoped>\n",
       "    .dataframe tbody tr th:only-of-type {\n",
       "        vertical-align: middle;\n",
       "    }\n",
       "\n",
       "    .dataframe tbody tr th {\n",
       "        vertical-align: top;\n",
       "    }\n",
       "\n",
       "    .dataframe thead th {\n",
       "        text-align: right;\n",
       "    }\n",
       "</style>\n",
       "<table border=\"1\" class=\"dataframe\">\n",
       "  <thead>\n",
       "    <tr style=\"text-align: right;\">\n",
       "      <th></th>\n",
       "      <th>PC1</th>\n",
       "      <th>PC2</th>\n",
       "      <th>PC3</th>\n",
       "      <th>PC4</th>\n",
       "      <th>PC5</th>\n",
       "      <th>PC6</th>\n",
       "      <th>PC7</th>\n",
       "      <th>PC8</th>\n",
       "      <th>PC9</th>\n",
       "      <th>PC10</th>\n",
       "      <th>PC11</th>\n",
       "    </tr>\n",
       "  </thead>\n",
       "  <tbody>\n",
       "    <tr>\n",
       "      <th>Standard deviation</th>\n",
       "      <td>0.757050</td>\n",
       "      <td>0.607456</td>\n",
       "      <td>0.504619</td>\n",
       "      <td>0.398799</td>\n",
       "      <td>0.337405</td>\n",
       "      <td>0.310275</td>\n",
       "      <td>0.289697</td>\n",
       "      <td>0.275122</td>\n",
       "      <td>0.265251</td>\n",
       "      <td>0.248842</td>\n",
       "      <td>0.236903</td>\n",
       "    </tr>\n",
       "    <tr>\n",
       "      <th>Proportion of Variance</th>\n",
       "      <td>0.299447</td>\n",
       "      <td>0.192797</td>\n",
       "      <td>0.133045</td>\n",
       "      <td>0.083096</td>\n",
       "      <td>0.059481</td>\n",
       "      <td>0.050300</td>\n",
       "      <td>0.043849</td>\n",
       "      <td>0.039548</td>\n",
       "      <td>0.036761</td>\n",
       "      <td>0.032353</td>\n",
       "      <td>0.029323</td>\n",
       "    </tr>\n",
       "    <tr>\n",
       "      <th>Cumulative Proportion</th>\n",
       "      <td>0.299447</td>\n",
       "      <td>0.492244</td>\n",
       "      <td>0.625290</td>\n",
       "      <td>0.708386</td>\n",
       "      <td>0.767866</td>\n",
       "      <td>0.818166</td>\n",
       "      <td>0.862015</td>\n",
       "      <td>0.901563</td>\n",
       "      <td>0.938323</td>\n",
       "      <td>0.970677</td>\n",
       "      <td>1.000000</td>\n",
       "    </tr>\n",
       "  </tbody>\n",
       "</table>\n",
       "</div>"
      ],
      "text/plain": [
       "                             PC1       PC2       PC3       PC4       PC5  \\\n",
       "Standard deviation      0.757050  0.607456  0.504619  0.398799  0.337405   \n",
       "Proportion of Variance  0.299447  0.192797  0.133045  0.083096  0.059481   \n",
       "Cumulative Proportion   0.299447  0.492244  0.625290  0.708386  0.767866   \n",
       "\n",
       "                             PC6       PC7       PC8       PC9      PC10  \\\n",
       "Standard deviation      0.310275  0.289697  0.275122  0.265251  0.248842   \n",
       "Proportion of Variance  0.050300  0.043849  0.039548  0.036761  0.032353   \n",
       "Cumulative Proportion   0.818166  0.862015  0.901563  0.938323  0.970677   \n",
       "\n",
       "                            PC11  \n",
       "Standard deviation      0.236903  \n",
       "Proportion of Variance  0.029323  \n",
       "Cumulative Proportion   1.000000  "
      ]
     },
     "metadata": {},
     "output_type": "display_data"
    }
   ],
   "source": [
    "std_dev = np.sqrt(model.explained_variance_)\n",
    "prop_var = model.explained_variance_ratio_\n",
    "cumulative_prop_var = np.cumsum(prop_var)\n",
    "\n",
    "summary_df = pd.DataFrame({\n",
    "    'Standard deviation': std_dev,\n",
    "    'Proportion of Variance': prop_var,\n",
    "    'Cumulative Proportion': cumulative_prop_var\n",
    "})\n",
    "\n",
    "summary_df.index = [f'PC{i+1}' for i in range(len(std_dev))]\n",
    "print('Importance of components:')\n",
    "display(summary_df.T)"
   ]
  },
  {
   "cell_type": "code",
   "execution_count": 26,
   "id": "db357e39",
   "metadata": {},
   "outputs": [
    {
     "name": "stdout",
     "output_type": "stream",
     "text": [
      "Standard deviations:\n",
      "[0.8 0.6 0.5 0.4 0.3 0.3 0.3 0.3 0.3 0.2 0.2]\n"
     ]
    }
   ],
   "source": [
    "# Print Standard deviations\n",
    "print(\"Standard deviations:\")\n",
    "print(np.round(std_dev, 1))"
   ]
  },
  {
   "cell_type": "code",
   "execution_count": 28,
   "id": "af6a6442",
   "metadata": {},
   "outputs": [],
   "source": [
    "loading = pd.DataFrame(np.round(model.components_,3),columns = x.columns,\n",
    "                           index = [f'PC{i+1}' for i in range(len(std_dev))]).T"
   ]
  },
  {
   "cell_type": "code",
   "execution_count": 29,
   "id": "36b15c06",
   "metadata": {},
   "outputs": [
    {
     "data": {
      "text/html": [
       "<div>\n",
       "<style scoped>\n",
       "    .dataframe tbody tr th:only-of-type {\n",
       "        vertical-align: middle;\n",
       "    }\n",
       "\n",
       "    .dataframe tbody tr th {\n",
       "        vertical-align: top;\n",
       "    }\n",
       "\n",
       "    .dataframe thead th {\n",
       "        text-align: right;\n",
       "    }\n",
       "</style>\n",
       "<table border=\"1\" class=\"dataframe\">\n",
       "  <thead>\n",
       "    <tr style=\"text-align: right;\">\n",
       "      <th></th>\n",
       "      <th>PC1</th>\n",
       "      <th>PC2</th>\n",
       "      <th>PC3</th>\n",
       "      <th>PC4</th>\n",
       "      <th>PC5</th>\n",
       "      <th>PC6</th>\n",
       "      <th>PC7</th>\n",
       "      <th>PC8</th>\n",
       "      <th>PC9</th>\n",
       "      <th>PC10</th>\n",
       "      <th>PC11</th>\n",
       "    </tr>\n",
       "  </thead>\n",
       "  <tbody>\n",
       "    <tr>\n",
       "      <th>yummy</th>\n",
       "      <td>-0.477</td>\n",
       "      <td>0.364</td>\n",
       "      <td>-0.304</td>\n",
       "      <td>0.055</td>\n",
       "      <td>-0.308</td>\n",
       "      <td>0.171</td>\n",
       "      <td>-0.281</td>\n",
       "      <td>0.013</td>\n",
       "      <td>0.572</td>\n",
       "      <td>-0.110</td>\n",
       "      <td>0.045</td>\n",
       "    </tr>\n",
       "    <tr>\n",
       "      <th>convenient</th>\n",
       "      <td>-0.155</td>\n",
       "      <td>0.016</td>\n",
       "      <td>-0.063</td>\n",
       "      <td>-0.142</td>\n",
       "      <td>0.278</td>\n",
       "      <td>-0.348</td>\n",
       "      <td>-0.060</td>\n",
       "      <td>-0.113</td>\n",
       "      <td>-0.018</td>\n",
       "      <td>-0.666</td>\n",
       "      <td>-0.542</td>\n",
       "    </tr>\n",
       "    <tr>\n",
       "      <th>spicy</th>\n",
       "      <td>-0.006</td>\n",
       "      <td>0.019</td>\n",
       "      <td>-0.037</td>\n",
       "      <td>0.198</td>\n",
       "      <td>0.071</td>\n",
       "      <td>-0.355</td>\n",
       "      <td>0.708</td>\n",
       "      <td>0.376</td>\n",
       "      <td>0.400</td>\n",
       "      <td>-0.076</td>\n",
       "      <td>0.142</td>\n",
       "    </tr>\n",
       "    <tr>\n",
       "      <th>fattening</th>\n",
       "      <td>0.116</td>\n",
       "      <td>-0.034</td>\n",
       "      <td>-0.322</td>\n",
       "      <td>-0.354</td>\n",
       "      <td>-0.073</td>\n",
       "      <td>-0.407</td>\n",
       "      <td>-0.386</td>\n",
       "      <td>0.590</td>\n",
       "      <td>-0.161</td>\n",
       "      <td>-0.005</td>\n",
       "      <td>0.251</td>\n",
       "    </tr>\n",
       "    <tr>\n",
       "      <th>greasy</th>\n",
       "      <td>0.304</td>\n",
       "      <td>-0.064</td>\n",
       "      <td>-0.802</td>\n",
       "      <td>0.254</td>\n",
       "      <td>0.361</td>\n",
       "      <td>0.209</td>\n",
       "      <td>0.036</td>\n",
       "      <td>-0.138</td>\n",
       "      <td>-0.003</td>\n",
       "      <td>0.009</td>\n",
       "      <td>0.002</td>\n",
       "    </tr>\n",
       "    <tr>\n",
       "      <th>fast</th>\n",
       "      <td>-0.108</td>\n",
       "      <td>-0.087</td>\n",
       "      <td>-0.065</td>\n",
       "      <td>-0.097</td>\n",
       "      <td>0.108</td>\n",
       "      <td>-0.595</td>\n",
       "      <td>-0.087</td>\n",
       "      <td>-0.628</td>\n",
       "      <td>0.166</td>\n",
       "      <td>0.240</td>\n",
       "      <td>0.339</td>\n",
       "    </tr>\n",
       "    <tr>\n",
       "      <th>cheap</th>\n",
       "      <td>-0.337</td>\n",
       "      <td>-0.611</td>\n",
       "      <td>-0.149</td>\n",
       "      <td>0.119</td>\n",
       "      <td>-0.129</td>\n",
       "      <td>-0.103</td>\n",
       "      <td>-0.040</td>\n",
       "      <td>0.140</td>\n",
       "      <td>0.076</td>\n",
       "      <td>0.428</td>\n",
       "      <td>-0.489</td>\n",
       "    </tr>\n",
       "    <tr>\n",
       "      <th>tasty</th>\n",
       "      <td>-0.472</td>\n",
       "      <td>0.307</td>\n",
       "      <td>-0.287</td>\n",
       "      <td>-0.003</td>\n",
       "      <td>-0.211</td>\n",
       "      <td>-0.077</td>\n",
       "      <td>0.360</td>\n",
       "      <td>-0.073</td>\n",
       "      <td>-0.639</td>\n",
       "      <td>0.079</td>\n",
       "      <td>0.020</td>\n",
       "    </tr>\n",
       "    <tr>\n",
       "      <th>expensive</th>\n",
       "      <td>0.329</td>\n",
       "      <td>0.601</td>\n",
       "      <td>0.024</td>\n",
       "      <td>0.068</td>\n",
       "      <td>-0.003</td>\n",
       "      <td>-0.261</td>\n",
       "      <td>-0.068</td>\n",
       "      <td>0.030</td>\n",
       "      <td>0.067</td>\n",
       "      <td>0.454</td>\n",
       "      <td>-0.490</td>\n",
       "    </tr>\n",
       "    <tr>\n",
       "      <th>healthy</th>\n",
       "      <td>-0.214</td>\n",
       "      <td>0.077</td>\n",
       "      <td>0.192</td>\n",
       "      <td>0.763</td>\n",
       "      <td>0.288</td>\n",
       "      <td>-0.178</td>\n",
       "      <td>-0.350</td>\n",
       "      <td>0.176</td>\n",
       "      <td>-0.186</td>\n",
       "      <td>-0.038</td>\n",
       "      <td>0.158</td>\n",
       "    </tr>\n",
       "    <tr>\n",
       "      <th>disgusting</th>\n",
       "      <td>0.375</td>\n",
       "      <td>-0.140</td>\n",
       "      <td>-0.089</td>\n",
       "      <td>0.370</td>\n",
       "      <td>-0.729</td>\n",
       "      <td>-0.211</td>\n",
       "      <td>-0.027</td>\n",
       "      <td>-0.167</td>\n",
       "      <td>-0.072</td>\n",
       "      <td>-0.290</td>\n",
       "      <td>-0.041</td>\n",
       "    </tr>\n",
       "  </tbody>\n",
       "</table>\n",
       "</div>"
      ],
      "text/plain": [
       "              PC1    PC2    PC3    PC4    PC5    PC6    PC7    PC8    PC9  \\\n",
       "yummy      -0.477  0.364 -0.304  0.055 -0.308  0.171 -0.281  0.013  0.572   \n",
       "convenient -0.155  0.016 -0.063 -0.142  0.278 -0.348 -0.060 -0.113 -0.018   \n",
       "spicy      -0.006  0.019 -0.037  0.198  0.071 -0.355  0.708  0.376  0.400   \n",
       "fattening   0.116 -0.034 -0.322 -0.354 -0.073 -0.407 -0.386  0.590 -0.161   \n",
       "greasy      0.304 -0.064 -0.802  0.254  0.361  0.209  0.036 -0.138 -0.003   \n",
       "fast       -0.108 -0.087 -0.065 -0.097  0.108 -0.595 -0.087 -0.628  0.166   \n",
       "cheap      -0.337 -0.611 -0.149  0.119 -0.129 -0.103 -0.040  0.140  0.076   \n",
       "tasty      -0.472  0.307 -0.287 -0.003 -0.211 -0.077  0.360 -0.073 -0.639   \n",
       "expensive   0.329  0.601  0.024  0.068 -0.003 -0.261 -0.068  0.030  0.067   \n",
       "healthy    -0.214  0.077  0.192  0.763  0.288 -0.178 -0.350  0.176 -0.186   \n",
       "disgusting  0.375 -0.140 -0.089  0.370 -0.729 -0.211 -0.027 -0.167 -0.072   \n",
       "\n",
       "             PC10   PC11  \n",
       "yummy      -0.110  0.045  \n",
       "convenient -0.666 -0.542  \n",
       "spicy      -0.076  0.142  \n",
       "fattening  -0.005  0.251  \n",
       "greasy      0.009  0.002  \n",
       "fast        0.240  0.339  \n",
       "cheap       0.428 -0.489  \n",
       "tasty       0.079  0.020  \n",
       "expensive   0.454 -0.490  \n",
       "healthy    -0.038  0.158  \n",
       "disgusting -0.290 -0.041  "
      ]
     },
     "execution_count": 29,
     "metadata": {},
     "output_type": "execute_result"
    }
   ],
   "source": [
    "loading"
   ]
  },
  {
   "cell_type": "code",
   "execution_count": 35,
   "id": "1d741f51",
   "metadata": {},
   "outputs": [
    {
     "data": {
      "image/png": "[encoded data removed]",
      "text/plain": [
       "<Figure size 1000x500 with 1 Axes>"
      ]
     },
     "metadata": {},
     "output_type": "display_data"
    }
   ],
   "source": [
    "from bioinfokit.visuz import cluster\n",
    "\n",
    "# plotting biplot\n",
    "cluster.biplot(cscore=pca, loadings=model.components_, labels=x.columns, var1=round(model.explained_variance_ratio_[0]*100, 2),\n",
    "    var2=round(model.explained_variance_ratio_[1]*100, 2),show=True,dim=(10,5))"
   ]
  },
  {
   "cell_type": "code",
   "execution_count": 36,
   "id": "01dbe0e5",
   "metadata": {},
   "outputs": [],
   "source": [
    "from sklearn.cluster import KMeans\n",
    "from yellowbrick.cluster import KElbowVisualizer\n",
    "\n"
   ]
  },
  {
   "cell_type": "code",
   "execution_count": 37,
   "id": "c31a7287",
   "metadata": {},
   "outputs": [
    {
     "name": "stderr",
     "output_type": "stream",
     "text": [
      "C:\\Users\\Abhinav\\anaconda3\\lib\\site-packages\\sklearn\\cluster\\_kmeans.py:870: FutureWarning: The default value of `n_init` will change from 10 to 'auto' in 1.4. Set the value of `n_init` explicitly to suppress the warning\n",
      "  warnings.warn(\n",
      "C:\\Users\\Abhinav\\anaconda3\\lib\\site-packages\\sklearn\\cluster\\_kmeans.py:1382: UserWarning: KMeans is known to have a memory leak on Windows with MKL, when there are less chunks than available threads. You can avoid it by setting the environment variable OMP_NUM_THREADS=6.\n",
      "  warnings.warn(\n"
     ]
    }
   ],
   "source": [
    "# K means clustering\n",
    "model1 = KMeans(n_clusters = 4,random_state = 5)\n",
    "cluster = model1.fit_predict(x)\n",
    "df['cluster'] = cluster"
   ]
  },
  {
   "cell_type": "code",
   "execution_count": 39,
   "id": "54f386c7",
   "metadata": {},
   "outputs": [
    {
     "data": {
      "text/plain": [
       "Counter({0: 308, 3: 324, 1: 580, 2: 241})"
      ]
     },
     "execution_count": 39,
     "metadata": {},
     "output_type": "execute_result"
    }
   ],
   "source": [
    "from collections import Counter\n",
    "Counter(model1.labels_)"
   ]
  },
  {
   "cell_type": "code",
   "execution_count": 40,
   "id": "d8144724",
   "metadata": {},
   "outputs": [
    {
     "data": {
      "image/png": "[encoded data removed]",
      "text/plain": [
       "<Figure size 800x550 with 1 Axes>"
      ]
     },
     "metadata": {},
     "output_type": "display_data"
    }
   ],
   "source": [
    "#Visulazing clusters\n",
    "sns.scatterplot(data=pca_df, x=\"PC1\", y=\"PC2\", hue=model1.labels_,palette = 'cool')\n",
    "plt.scatter(model1.cluster_centers_[:,0], model1.cluster_centers_[:,1], \n",
    "            c='yellow', s=100, label=\"centroids\")\n",
    "plt.legend()\n",
    "plt.show()"
   ]
  },
  {
   "cell_type": "code",
   "execution_count": 41,
   "id": "c8f4bc43",
   "metadata": {},
   "outputs": [
    {
     "data": {
      "image/png": "[encoded data removed]",
      "text/plain": [
       "<Figure size 800x550 with 3 Axes>"
      ]
     },
     "metadata": {},
     "output_type": "display_data"
    }
   ],
   "source": [
    "from statsmodels.graphics.mosaicplot import mosaic\n",
    "from itertools import product\n",
    "mosaic(pd.crosstab(cluster,df['Like']).stack())\n",
    "plt.show()"
   ]
  },
  {
   "cell_type": "code",
   "execution_count": 42,
   "id": "99dabfca",
   "metadata": {},
   "outputs": [
    {
     "data": {
      "image/png": "[encoded data removed]",
      "text/plain": [
       "<Figure size 800x550 with 3 Axes>"
      ]
     },
     "metadata": {},
     "output_type": "display_data"
    }
   ],
   "source": [
    "mosaic(pd.crosstab(cluster,df['Gender']).stack())\n",
    "plt.show()"
   ]
  },
  {
   "cell_type": "code",
   "execution_count": 48,
   "id": "f817cbc0",
   "metadata": {},
   "outputs": [
    {
     "data": {
      "text/html": [
       "<div>\n",
       "<style scoped>\n",
       "    .dataframe tbody tr th:only-of-type {\n",
       "        vertical-align: middle;\n",
       "    }\n",
       "\n",
       "    .dataframe tbody tr th {\n",
       "        vertical-align: top;\n",
       "    }\n",
       "\n",
       "    .dataframe thead th {\n",
       "        text-align: right;\n",
       "    }\n",
       "</style>\n",
       "<table border=\"1\" class=\"dataframe\">\n",
       "  <thead>\n",
       "    <tr style=\"text-align: right;\">\n",
       "      <th></th>\n",
       "      <th>cluster</th>\n",
       "      <th>VisitFrequency</th>\n",
       "    </tr>\n",
       "  </thead>\n",
       "  <tbody>\n",
       "    <tr>\n",
       "      <th>0</th>\n",
       "      <td>0</td>\n",
       "      <td>2.818182</td>\n",
       "    </tr>\n",
       "    <tr>\n",
       "      <th>1</th>\n",
       "      <td>1</td>\n",
       "      <td>2.584483</td>\n",
       "    </tr>\n",
       "    <tr>\n",
       "      <th>2</th>\n",
       "      <td>2</td>\n",
       "      <td>2.668050</td>\n",
       "    </tr>\n",
       "    <tr>\n",
       "      <th>3</th>\n",
       "      <td>3</td>\n",
       "      <td>2.540123</td>\n",
       "    </tr>\n",
       "  </tbody>\n",
       "</table>\n",
       "</div>"
      ],
      "text/plain": [
       "   cluster  VisitFrequency\n",
       "0        0        2.818182\n",
       "1        1        2.584483\n",
       "2        2        2.668050\n",
       "3        3        2.540123"
      ]
     },
     "execution_count": 48,
     "metadata": {},
     "output_type": "execute_result"
    }
   ],
   "source": [
    "df['VisitFrequency'] = LabelEncoder().fit_transform(df['VisitFrequency'])\n",
    "visit = df.groupby('cluster')['VisitFrequency'].mean()\n",
    "visit = visit.to_frame().reset_index()\n",
    "visit"
   ]
  },
  {
   "cell_type": "code",
   "execution_count": 49,
   "id": "f5db6374",
   "metadata": {},
   "outputs": [
    {
     "data": {
      "text/html": [
       "<div>\n",
       "<style scoped>\n",
       "    .dataframe tbody tr th:only-of-type {\n",
       "        vertical-align: middle;\n",
       "    }\n",
       "\n",
       "    .dataframe tbody tr th {\n",
       "        vertical-align: top;\n",
       "    }\n",
       "\n",
       "    .dataframe thead th {\n",
       "        text-align: right;\n",
       "    }\n",
       "</style>\n",
       "<table border=\"1\" class=\"dataframe\">\n",
       "  <thead>\n",
       "    <tr style=\"text-align: right;\">\n",
       "      <th></th>\n",
       "      <th>cluster</th>\n",
       "      <th>Like</th>\n",
       "    </tr>\n",
       "  </thead>\n",
       "  <tbody>\n",
       "    <tr>\n",
       "      <th>0</th>\n",
       "      <td>0</td>\n",
       "      <td>3.503247</td>\n",
       "    </tr>\n",
       "    <tr>\n",
       "      <th>1</th>\n",
       "      <td>1</td>\n",
       "      <td>7.665517</td>\n",
       "    </tr>\n",
       "    <tr>\n",
       "      <th>2</th>\n",
       "      <td>2</td>\n",
       "      <td>2.331950</td>\n",
       "    </tr>\n",
       "    <tr>\n",
       "      <th>3</th>\n",
       "      <td>3</td>\n",
       "      <td>7.120370</td>\n",
       "    </tr>\n",
       "  </tbody>\n",
       "</table>\n",
       "</div>"
      ],
      "text/plain": [
       "   cluster      Like\n",
       "0        0  3.503247\n",
       "1        1  7.665517\n",
       "2        2  2.331950\n",
       "3        3  7.120370"
      ]
     },
     "execution_count": 49,
     "metadata": {},
     "output_type": "execute_result"
    }
   ],
   "source": [
    "df['Like'] = LabelEncoder().fit_transform(df['Like'])\n",
    "Like = df.groupby('cluster')['Like'].mean()\n",
    "Like = Like.to_frame().reset_index()\n",
    "Like"
   ]
  },
  {
   "cell_type": "code",
   "execution_count": 50,
   "id": "c5cfcb8d",
   "metadata": {},
   "outputs": [
    {
     "data": {
      "text/html": [
       "<div>\n",
       "<style scoped>\n",
       "    .dataframe tbody tr th:only-of-type {\n",
       "        vertical-align: middle;\n",
       "    }\n",
       "\n",
       "    .dataframe tbody tr th {\n",
       "        vertical-align: top;\n",
       "    }\n",
       "\n",
       "    .dataframe thead th {\n",
       "        text-align: right;\n",
       "    }\n",
       "</style>\n",
       "<table border=\"1\" class=\"dataframe\">\n",
       "  <thead>\n",
       "    <tr style=\"text-align: right;\">\n",
       "      <th></th>\n",
       "      <th>cluster</th>\n",
       "      <th>Gender</th>\n",
       "    </tr>\n",
       "  </thead>\n",
       "  <tbody>\n",
       "    <tr>\n",
       "      <th>0</th>\n",
       "      <td>0</td>\n",
       "      <td>0.405844</td>\n",
       "    </tr>\n",
       "    <tr>\n",
       "      <th>1</th>\n",
       "      <td>1</td>\n",
       "      <td>0.398276</td>\n",
       "    </tr>\n",
       "    <tr>\n",
       "      <th>2</th>\n",
       "      <td>2</td>\n",
       "      <td>0.580913</td>\n",
       "    </tr>\n",
       "    <tr>\n",
       "      <th>3</th>\n",
       "      <td>3</td>\n",
       "      <td>0.521605</td>\n",
       "    </tr>\n",
       "  </tbody>\n",
       "</table>\n",
       "</div>"
      ],
      "text/plain": [
       "   cluster    Gender\n",
       "0        0  0.405844\n",
       "1        1  0.398276\n",
       "2        2  0.580913\n",
       "3        3  0.521605"
      ]
     },
     "execution_count": 50,
     "metadata": {},
     "output_type": "execute_result"
    }
   ],
   "source": [
    "df['Gender'] = LabelEncoder().fit_transform(df['Gender'])\n",
    "Gender = df.groupby('cluster')['Gender'].mean()\n",
    "Gender = Gender.to_frame().reset_index()\n",
    "Gender"
   ]
  },
  {
   "cell_type": "code",
   "execution_count": 51,
   "id": "cd20eb2d",
   "metadata": {},
   "outputs": [
    {
     "data": {
      "text/html": [
       "<div>\n",
       "<style scoped>\n",
       "    .dataframe tbody tr th:only-of-type {\n",
       "        vertical-align: middle;\n",
       "    }\n",
       "\n",
       "    .dataframe tbody tr th {\n",
       "        vertical-align: top;\n",
       "    }\n",
       "\n",
       "    .dataframe thead th {\n",
       "        text-align: right;\n",
       "    }\n",
       "</style>\n",
       "<table border=\"1\" class=\"dataframe\">\n",
       "  <thead>\n",
       "    <tr style=\"text-align: right;\">\n",
       "      <th></th>\n",
       "      <th>cluster</th>\n",
       "      <th>Gender</th>\n",
       "      <th>Like</th>\n",
       "      <th>VisitFrequency</th>\n",
       "    </tr>\n",
       "  </thead>\n",
       "  <tbody>\n",
       "    <tr>\n",
       "      <th>0</th>\n",
       "      <td>0</td>\n",
       "      <td>0.405844</td>\n",
       "      <td>3.503247</td>\n",
       "      <td>2.818182</td>\n",
       "    </tr>\n",
       "    <tr>\n",
       "      <th>1</th>\n",
       "      <td>1</td>\n",
       "      <td>0.398276</td>\n",
       "      <td>7.665517</td>\n",
       "      <td>2.584483</td>\n",
       "    </tr>\n",
       "    <tr>\n",
       "      <th>2</th>\n",
       "      <td>2</td>\n",
       "      <td>0.580913</td>\n",
       "      <td>2.331950</td>\n",
       "      <td>2.668050</td>\n",
       "    </tr>\n",
       "    <tr>\n",
       "      <th>3</th>\n",
       "      <td>3</td>\n",
       "      <td>0.521605</td>\n",
       "      <td>7.120370</td>\n",
       "      <td>2.540123</td>\n",
       "    </tr>\n",
       "  </tbody>\n",
       "</table>\n",
       "</div>"
      ],
      "text/plain": [
       "   cluster    Gender      Like  VisitFrequency\n",
       "0        0  0.405844  3.503247        2.818182\n",
       "1        1  0.398276  7.665517        2.584483\n",
       "2        2  0.580913  2.331950        2.668050\n",
       "3        3  0.521605  7.120370        2.540123"
      ]
     },
     "execution_count": 51,
     "metadata": {},
     "output_type": "execute_result"
    }
   ],
   "source": [
    "segment = Gender.merge(Like, on='cluster', how='left').merge(visit, on='cluster', how='left')\n",
    "segment"
   ]
  },
  {
   "cell_type": "code",
   "execution_count": 52,
   "id": "39330da3",
   "metadata": {},
   "outputs": [
    {
     "data": {
      "image/png": "[encoded data removed]",
      "text/plain": [
       "<Figure size 1000x500 with 1 Axes>"
      ]
     },
     "metadata": {},
     "output_type": "display_data"
    }
   ],
   "source": [
    "plt.figure(figsize = (10,5))\n",
    "sns.scatterplot(x = \"VisitFrequency\", y = \"Like\",data=segment,s=400, color=\"green\")\n",
    "plt.title(\"segment evaluation plot\",\n",
    "          fontsize = 16) \n",
    "plt.xlabel(\"Visit\", fontsize = 10) \n",
    "plt.ylabel(\"Like\", fontsize = 10) \n",
    "plt.show()"
   ]
  },
  {
   "cell_type": "code",
   "execution_count": null,
   "id": "468be4f5",
   "metadata": {},
   "outputs": [],
   "source": []
  }
 ],
 "metadata": {
  "kernelspec": {
   "display_name": "Python 3 (ipykernel)",
   "language": "python",
   "name": "python3"
  },
  "language_info": {
   "codemirror_mode": {
    "name": "ipython",
    "version": 3
   },
   "file_extension": ".py",
   "mimetype": "text/x-python",
   "name": "python",
   "nbconvert_exporter": "python",
   "pygments_lexer": "ipython3",
   "version": "3.10.9"
  }
 },
 "nbformat": 4,
 "nbformat_minor": 5
}
